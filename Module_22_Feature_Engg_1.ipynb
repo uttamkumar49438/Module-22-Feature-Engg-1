{
  "nbformat": 4,
  "nbformat_minor": 0,
  "metadata": {
    "colab": {
      "provenance": []
    },
    "kernelspec": {
      "name": "python3",
      "display_name": "Python 3"
    },
    "language_info": {
      "name": "python"
    }
  },
  "cells": [
    {
      "cell_type": "markdown",
      "source": [
        "Q1: What are missing values in a dataset? Why is it essential to handle missing values? Name some\n",
        "algorithms that are not affected by missing values."
      ],
      "metadata": {
        "id": "K5lQtEQJBy63"
      }
    },
    {
      "cell_type": "markdown",
      "source": [
        "Missing values refer to the absence of data for one or more variables in a dataset. They can occur due to various reasons such as data entry errors, equipment malfunction, or intentional omission."
      ],
      "metadata": {
        "id": "VewAX1lCB6SW"
      }
    },
    {
      "cell_type": "markdown",
      "source": [
        "Q2: List down techniques used to handle missing data. Give an example of each with python code."
      ],
      "metadata": {
        "id": "9CcV2mHBB9YL"
      }
    },
    {
      "cell_type": "code",
      "source": [
        "import pandas as pd\n",
        "\n",
        "# Create a sample DataFrame with missing values\n",
        "df = pd.DataFrame({'A': [1, 2, None, 4, 5],\n",
        "                   'B': [None, 2, 3, None, 5]})\n",
        "\n",
        "# Mean imputation\n",
        "df.fillna(df.mean(), inplace=True)\n",
        "print(df)"
      ],
      "metadata": {
        "id": "LsrFKYqxCAD6"
      },
      "execution_count": null,
      "outputs": []
    },
    {
      "cell_type": "markdown",
      "source": [
        "Q3: Explain the imbalanced data. What will happen if imbalanced data is not handled?"
      ],
      "metadata": {
        "id": "SdnaQM_wCC7t"
      }
    },
    {
      "cell_type": "markdown",
      "source": [
        "-Imbalanced data refers to a situation where the number of observations in each class of the target variable is significantly unequal. For example, in binary classification, one class may dominate the other in terms of the number of samples.\n",
        "-If imbalanced data is not handled, machine learning models tend to be biased towards the majority class and perform poorly on the minority class. This can lead to inaccurate predictions and reduced model performance, especially in tasks where correctly identifying the minority class is crucial."
      ],
      "metadata": {
        "id": "Z1HRY7TXCFPx"
      }
    },
    {
      "cell_type": "markdown",
      "source": [
        "Q4: What are Up-sampling and Down-sampling? Explain with an example when up-sampling and down-\n",
        "sampling are required."
      ],
      "metadata": {
        "id": "O-2dL_4XCJq0"
      }
    },
    {
      "cell_type": "markdown",
      "source": [
        "-Up-sampling: When dealing with a classification task where the positive class is underrepresented, we can up-sample the positive class to balance the dataset and improve the model's performance.\n",
        "-Down-sampling: In situations where the majority class contains too many samples, down-sampling can be applied to create a more balanced dataset."
      ],
      "metadata": {
        "id": "YyaZ_CILCM7E"
      }
    },
    {
      "cell_type": "markdown",
      "source": [
        "Q5: What is data Augmentation? Explain SMOTE."
      ],
      "metadata": {
        "id": "ZI1TVrD9CTLu"
      }
    },
    {
      "cell_type": "markdown",
      "source": [
        "-Data augmentation involves creating additional training examples by applying transformations such as rotation, scaling, or flipping to existing data.\n",
        "-SMOTE (Synthetic Minority Over-sampling Technique) is a data augmentation technique specifically designed to address imbalanced datasets by generating synthetic samples for the minority class based on the characteristics of existing minority class samples."
      ],
      "metadata": {
        "id": "KXr36Y7rCUL8"
      }
    },
    {
      "cell_type": "markdown",
      "source": [
        "Q6: What are outliers in a dataset? Why is it essential to handle outliers?"
      ],
      "metadata": {
        "id": "ggKXft_QCYTp"
      }
    },
    {
      "cell_type": "markdown",
      "source": [
        "It is essential to handle outliers because they can skew statistical analyses, distort model predictions, and lead to inaccurate conclusions. Ignoring outliers can result in biased estimates and reduced model performance."
      ],
      "metadata": {
        "id": "SVOeM-sgCeOP"
      }
    },
    {
      "cell_type": "markdown",
      "source": [
        "Q7: You are working on a project that requires analyzing customer data. However, you notice that some of\n",
        "the data is missing. What are some techniques you can use to handle the missing data in your analysis?"
      ],
      "metadata": {
        "id": "mxGmRdUGChmm"
      }
    },
    {
      "cell_type": "markdown",
      "source": [
        "Some techniques to handle missing data include:\n",
        "=Mean/Median/Mode imputation\n",
        "=Forward Fill/Backward Fill\n",
        "=Data Imputation with Machine Learning Models"
      ],
      "metadata": {
        "id": "kBnaN3o1Ckwc"
      }
    },
    {
      "cell_type": "markdown",
      "source": [
        "Q8: You are working with a large dataset and find that a small percentage of the data is missing. What are\n",
        "some strategies you can use to determine if the missing data is missing at random or if there is a pattern\n",
        "to the missing data?"
      ],
      "metadata": {
        "id": "MEUN-pc4Co3s"
      }
    },
    {
      "cell_type": "markdown",
      "source": [
        "=Analyze the missing data distribution across different variables.\n",
        "=Use visualization techniques such as heatmaps or missing data matrices.\n",
        "=Conduct statistical tests to determine if the missingness is associated with certain variables or patterns."
      ],
      "metadata": {
        "id": "QAtNLYKxCtyA"
      }
    },
    {
      "cell_type": "markdown",
      "source": [
        "Q9: Suppose you are working on a medical diagnosis project and find that the majority of patients in the\n",
        "dataset do not have the condition of interest, while a small percentage do. What are some strategies you\n",
        "can use to evaluate the performance of your machine learning model on this imbalanced dataset?"
      ],
      "metadata": {
        "id": "mXukebn1CwAQ"
      }
    },
    {
      "cell_type": "markdown",
      "source": [
        "=Use evaluation metrics that are robust to class imbalance, such as precision, recall, F1-score, and ROC AUC.\n",
        "=Employ resampling techniques such as oversampling the minority class, undersampling the majority class, or using algorithmic techniques like SMOTE (Synthetic Minority Over-sampling Technique)."
      ],
      "metadata": {
        "id": "eeLS97prCyqd"
      }
    },
    {
      "cell_type": "markdown",
      "source": [
        "Q10: When attempting to estimate customer satisfaction for a project, you discover that the dataset is\n",
        "unbalanced, with the bulk of customers reporting being satisfied. What methods can you employ to\n",
        "balance the dataset and down-sample the majority class?"
      ],
      "metadata": {
        "id": "tZlPPlL3C2K1"
      }
    },
    {
      "cell_type": "markdown",
      "source": [
        "=Down-sampling involves reducing the number of samples in the majority class to balance the dataset.\n",
        "=Strategies include randomly selecting a subset of samples from the majority class or using more sophisticated techniques such as Tomek links or edited nearest neighbors."
      ],
      "metadata": {
        "id": "HkkSJjiOC6uq"
      }
    },
    {
      "cell_type": "markdown",
      "source": [
        "Q11: You discover that the dataset is unbalanced with a low percentage of occurrences while working on a\n",
        "project that requires you to estimate the occurrence of a rare event. What methods can you employ to\n",
        "balance the dataset and up-sample the minority class?"
      ],
      "metadata": {
        "id": "NN_9jPGBC-Li"
      }
    },
    {
      "cell_type": "markdown",
      "source": [
        "=Up-sampling involves increasing the number of samples in the minority class to balance the dataset.\n",
        "=Techniques include replicating existing samples, generating synthetic samples using methods like SMOTE, or using ensemble methods that resample during training."
      ],
      "metadata": {
        "id": "CfaAEz1sDAjK"
      }
    }
  ]
}